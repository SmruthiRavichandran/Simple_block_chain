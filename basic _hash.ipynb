{
 "cells": [
  {
   "cell_type": "code",
   "execution_count": null,
   "metadata": {},
   "outputs": [],
   "source": [
    "from dataclasses import dataclass\n",
    "from Crypto.Hash import SHA256"
   ]
  },
  {
   "cell_type": "code",
   "execution_count": null,
   "metadata": {},
   "outputs": [
    {
     "ename": "TypeError",
     "evalue": "block.__init__() missing 1 required positional argument: 'previous_hash'",
     "output_type": "error",
     "traceback": [
      "\u001b[1;31m---------------------------------------------------------------------------\u001b[0m",
      "\u001b[1;31mTypeError\u001b[0m                                 Traceback (most recent call last)",
      "Cell \u001b[1;32mIn[27], line 10\u001b[0m\n\u001b[0;32m      8\u001b[0m hasher \u001b[38;5;241m=\u001b[39m SHA256\u001b[38;5;241m.\u001b[39mnew()\n\u001b[0;32m      9\u001b[0m hasher\u001b[38;5;241m.\u001b[39mupdate(data\u001b[38;5;241m.\u001b[39mencode())\n\u001b[1;32m---> 10\u001b[0m hashed_obj \u001b[38;5;241m=\u001b[39m \u001b[43mblock\u001b[49m\u001b[43m(\u001b[49m\u001b[43mdata\u001b[49m\u001b[38;5;241;43m=\u001b[39;49m\u001b[43mdata\u001b[49m\u001b[43m,\u001b[49m\u001b[43m \u001b[49m\u001b[43mcurrent_hash\u001b[49m\u001b[38;5;241;43m=\u001b[39;49m\u001b[43mhasher\u001b[49m\u001b[38;5;241;43m.\u001b[39;49m\u001b[43mhexdigest\u001b[49m\u001b[43m(\u001b[49m\u001b[43m)\u001b[49m\u001b[43m)\u001b[49m\n\u001b[0;32m     11\u001b[0m \u001b[38;5;28mprint\u001b[39m(hashed_obj)\n\u001b[0;32m     13\u001b[0m current_hash \u001b[38;5;241m=\u001b[39m data\u001b[38;5;241m+\u001b[39m previous_hash\n",
      "\u001b[1;31mTypeError\u001b[0m: block.__init__() missing 1 required positional argument: 'previous_hash'"
     ]
    }
   ],
   "source": [
    "@dataclass\n",
    "class block:\n",
    "    data: str\n",
    "    current_hash: str\n",
    "    previous_hash:str=\"0\"\n",
    "\n",
    "data = \"Hello, World!\"\n",
    "hasher = SHA256.new()\n",
    "hasher.update(data.encode())\n",
    "hashed_obj = block(data=data, current_hash=hasher.hexdigest())\n",
    "print(hashed_obj)\n",
    "\n",
    "current_hash = data+ previous_hash\n",
    "print(current_hash)\n",
    "\n"
   ]
  },
  {
   "cell_type": "code",
   "execution_count": null,
   "metadata": {},
   "outputs": [],
   "source": [
    "@dataclass\n",
    "class block:\n",
    "    data: str\n",
    "    current_hash: str\n",
    "    previous_hash:str=\"0\"\n",
    "    \n",
    "    def calculate_hash(self):\n",
    "        block_contents = self.data + self.previous_hash\n",
    "        block_contents = block_contents.encode()\n",
    "        hasher = SHA256.new()\n",
    "        block_hash_obj= block(data=data + previous_hash, current_hash=current_hash)\n",
    "        hasher.update(block_hash_obj.encode())\n",
    "        block_hash = hashlib.sha256(block_contents.encode())\n",
    "       \n",
    "    print    \n"
   ]
  },
  {
   "cell_type": "code",
   "execution_count": null,
   "metadata": {},
   "outputs": [],
   "source": []
  }
 ],
 "metadata": {
  "kernelspec": {
   "display_name": "Python 3",
   "language": "python",
   "name": "python3"
  },
  "language_info": {
   "codemirror_mode": {
    "name": "ipython",
    "version": 3
   },
   "file_extension": ".py",
   "mimetype": "text/x-python",
   "name": "python",
   "nbconvert_exporter": "python",
   "pygments_lexer": "ipython3",
   "version": "3.11.9"
  }
 },
 "nbformat": 4,
 "nbformat_minor": 2
}
